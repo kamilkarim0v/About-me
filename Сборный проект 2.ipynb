{
 "cells": [
  {
   "cell_type": "markdown",
   "id": "4d84b6aa",
   "metadata": {},
   "source": [
    "<div style=\"border:solid Chocolate 2px; padding: 40px\">\n",
    "Камиль, привет, меня зовут Станислав, и я буду проверять твой проект. Предлагаю общаться на «ты», но если это неудобно - дай знать, и мы перейдем на «вы».\n",
    "Это учебный проект и здесь не стоит бояться делать ошибки, я хочу поделиться своим опытом и помочь тебе стать аналитиком данных.\n",
    "Уже выполнена большая работа над проектом, давай сделаем его еще лучше. Ниже ты найдешь мои комментарии - пожалуйста, не перемещай, не изменяй и не удаляй их. Я буду использовать цветовую разметку:\n",
    "\n",
    "<div class=\"alert alert-danger\">\n",
    "<b>Комментарий с замечанием ревьюера:</b> Так выделены самые важные замечания. Как только ты их исправишь проект будет принят. </div>\n",
    "\n",
    "<div class=\"alert alert-warning\">\n",
    "<b>Комментарий с небольшим замечанием или советом ревьюера:</b> Так выделены небольшие замечания или советы. \n",
    "</div>\n",
    "\n",
    "<div class=\"alert alert-success\">\n",
    "<b>Комментарий с комплиментом ревьюера:</b> Так я выделяю все остальные комментарии.</div>\n",
    "\n",
    "Давай работать над проектом в диалоге: если ты что-то меняешь в проекте или отвечаешь на мои комментарии — пиши об этом.\n",
    "Мне будет легче отследить изменения, если ты выделишь свои комментарии:\n",
    "<div class=\"alert alert-info\"> <b>Комментарий студента:</b> Например, вот так.</div>\n",
    "\n",
    "Всё это поможет выполнить повторную проверку твоего проекта оперативнее.\n",
    "</div>\n"
   ]
  },
  {
   "cell_type": "markdown",
   "id": "bf8837f8",
   "metadata": {},
   "source": [
    "<div style=\"border:solid Chocolate 2px; padding: 40px\">\n",
    "\n",
    "# Общий вывод ревьюера по проекту\n",
    "\n",
    "<div class=\"alert alert-success\">\n",
    "\n",
    "Проделана хорошая аналитическая работа. Код написан чисто, соблюдена структура проекта и написаны качественные аналитические выводы. Есть несколько замечаний, исправь их и проект будет принят.\n",
    "\n",
    "- по ссылкам ниже ты найдешь интересные материалы по А/В тестам\n",
    "  \n",
    "    \n",
    "https://habr.com/ru/company/avito/blog/571094/\n",
    "\n",
    "https://habr.com/ru/company/yandex/blog/476826/\n",
    "\n",
    "https://academy.yandex.ru/journal/kak-provesti-a-b-testirovanie-6-prostykh-shagov\n",
    "\n",
    "https://habr.com/ru/company/yandex/blog/342704/\n",
    "\n",
    "https://r-analytics.blogspot.com/2013/10/blog-post_13.html \n",
    "\n",
    "</div>\n",
    "\n",
    "<div class=\"alert alert-danger\">\n",
    "\n",
    "- проверь, пожалуйста, отсутствие пересечения пользователей    \n",
    "- скорректируй, пожалуйста, расчет доли пользователей, которые переходят на следующий шаг\n",
    "- проанализируй и используй, пожалуйста, поправку на множественную проверку гипотез   \n",
    "- добавь, пожалуйста, подписи осей для графика\n",
    "- сформулируй, пожалуйста, гипотезы\n",
    "</div>\n",
    "</div>"
   ]
  },
  {
   "cell_type": "markdown",
   "id": "294fb916",
   "metadata": {},
   "source": [
    "<div style=\"border:solid Chocolate 2px; padding: 40px\">\n",
    "\n",
    "# Общий вывод ревьюера по проекту в2\n",
    "\n",
    "<div class=\"alert alert-success\">\n",
    "\n",
    "Отлично, замечания исправлены корректно, спасибо за качественный проект, было приятно поработать, желаю успеха на выпускном модуле!"
   ]
  },
  {
   "cell_type": "markdown",
   "id": "a09d7ccb",
   "metadata": {},
   "source": [
    "# Описание проекта\n",
    "Вы работаете в стартапе, который продаёт продукты питания. Нужно разобраться, как ведут себя пользователи вашего мобильного приложения. \n",
    "Изучите воронку продаж. Узнайте, как пользователи доходят до покупки. Сколько пользователей доходит до покупки, а сколько — «застревает» на предыдущих шагах? На каких именно?\n",
    "После этого исследуйте результаты A/A/B-эксперимента. Дизайнеры захотели поменять шрифты во всём приложении, а менеджеры испугались, что пользователям будет непривычно. Договорились принять решение по результатам A/A/B-теста. Пользователей разбили на 3 группы: 2 контрольные со старыми шрифтами и одну экспериментальную — с новыми. Выясните, какой шрифт лучше.\n",
    "Создание двух групп A вместо одной имеет определённые преимущества. Если две контрольные группы окажутся равны, вы можете быть уверены в точности проведенного тестирования. Если же между значениями A и A будут существенные различия, это поможет обнаружить факторы, которые привели к искажению результатов. Сравнение контрольных групп также помогает понять, сколько времени и данных потребуется для дальнейших тестов.\n",
    "В случае общей аналитики и A/A/B-эксперимента работайте с одними и теми же данными. В реальных проектах всегда идут эксперименты. Аналитики исследуют качество работы приложения по общим данным, не учитывая принадлежность пользователей к экспериментам."
   ]
  },
  {
   "cell_type": "markdown",
   "id": "1f6953e6",
   "metadata": {},
   "source": [
    "<div class=\"alert alert-success\">\n",
    "<b>Комментарий с комплиментом ревьюера:</b> \n",
    "    \n",
    "Здорово, что выделено содержание. 👍\n",
    "    \n",
    "Еще можно добавить описание данных, table of contents (ToC) для удобства перемещения по проекту  и заголовок, который будет отражать основную суть проекта.\n",
    "</div>\n"
   ]
  },
  {
   "cell_type": "markdown",
   "id": "d1582cb5",
   "metadata": {},
   "source": [
    "## Шаг 1. Откройте файл с данными и изучите общую информацию."
   ]
  },
  {
   "cell_type": "markdown",
   "id": "9d414272",
   "metadata": {},
   "source": [
    "#### 1. Импортирем библиотеки."
   ]
  },
  {
   "cell_type": "code",
   "execution_count": 1,
   "id": "845d9e77",
   "metadata": {},
   "outputs": [],
   "source": [
    "import pandas as pd\n",
    "import matplotlib.pyplot as plt\n",
    "import numpy as np\n",
    "import seaborn as sns\n",
    "from datetime import datetime, timedelta\n",
    "from scipy import stats as st\n",
    "import math as mth"
   ]
  },
  {
   "cell_type": "markdown",
   "id": "07bb36d7",
   "metadata": {},
   "source": [
    "####  2.Считываем данные из csv-файлов в датафреймы и сохраняем в переменные"
   ]
  },
  {
   "cell_type": "code",
   "execution_count": 2,
   "id": "78a39184",
   "metadata": {},
   "outputs": [],
   "source": [
    "try:\n",
    "    df = pd.read_csv('/datasets/logs_exp.csv', sep = '\\t')\n",
    "except:\n",
    "    df = pd.read_csv('https://code.s3.yandex.net/datasets/logs_exp.csv', sep = '\\t')"
   ]
  },
  {
   "cell_type": "markdown",
   "id": "ccb03645",
   "metadata": {},
   "source": [
    "#### 3. Изучаем общую информацию о полученных датафреймах"
   ]
  },
  {
   "cell_type": "code",
   "execution_count": 3,
   "id": "269a37a0",
   "metadata": {},
   "outputs": [
    {
     "data": {
      "text/html": [
       "<div>\n",
       "<style scoped>\n",
       "    .dataframe tbody tr th:only-of-type {\n",
       "        vertical-align: middle;\n",
       "    }\n",
       "\n",
       "    .dataframe tbody tr th {\n",
       "        vertical-align: top;\n",
       "    }\n",
       "\n",
       "    .dataframe thead th {\n",
       "        text-align: right;\n",
       "    }\n",
       "</style>\n",
       "<table border=\"1\" class=\"dataframe\">\n",
       "  <thead>\n",
       "    <tr style=\"text-align: right;\">\n",
       "      <th></th>\n",
       "      <th>EventName</th>\n",
       "      <th>DeviceIDHash</th>\n",
       "      <th>EventTimestamp</th>\n",
       "      <th>ExpId</th>\n",
       "    </tr>\n",
       "  </thead>\n",
       "  <tbody>\n",
       "    <tr>\n",
       "      <th>0</th>\n",
       "      <td>MainScreenAppear</td>\n",
       "      <td>4575588528974610257</td>\n",
       "      <td>1564029816</td>\n",
       "      <td>246</td>\n",
       "    </tr>\n",
       "    <tr>\n",
       "      <th>1</th>\n",
       "      <td>MainScreenAppear</td>\n",
       "      <td>7416695313311560658</td>\n",
       "      <td>1564053102</td>\n",
       "      <td>246</td>\n",
       "    </tr>\n",
       "    <tr>\n",
       "      <th>2</th>\n",
       "      <td>PaymentScreenSuccessful</td>\n",
       "      <td>3518123091307005509</td>\n",
       "      <td>1564054127</td>\n",
       "      <td>248</td>\n",
       "    </tr>\n",
       "    <tr>\n",
       "      <th>3</th>\n",
       "      <td>CartScreenAppear</td>\n",
       "      <td>3518123091307005509</td>\n",
       "      <td>1564054127</td>\n",
       "      <td>248</td>\n",
       "    </tr>\n",
       "    <tr>\n",
       "      <th>4</th>\n",
       "      <td>PaymentScreenSuccessful</td>\n",
       "      <td>6217807653094995999</td>\n",
       "      <td>1564055322</td>\n",
       "      <td>248</td>\n",
       "    </tr>\n",
       "  </tbody>\n",
       "</table>\n",
       "</div>"
      ],
      "text/plain": [
       "                 EventName         DeviceIDHash  EventTimestamp  ExpId\n",
       "0         MainScreenAppear  4575588528974610257      1564029816    246\n",
       "1         MainScreenAppear  7416695313311560658      1564053102    246\n",
       "2  PaymentScreenSuccessful  3518123091307005509      1564054127    248\n",
       "3         CartScreenAppear  3518123091307005509      1564054127    248\n",
       "4  PaymentScreenSuccessful  6217807653094995999      1564055322    248"
      ]
     },
     "execution_count": 3,
     "metadata": {},
     "output_type": "execute_result"
    }
   ],
   "source": [
    "df.head(5)"
   ]
  },
  {
   "cell_type": "code",
   "execution_count": 4,
   "id": "8fd3641b",
   "metadata": {},
   "outputs": [
    {
     "name": "stdout",
     "output_type": "stream",
     "text": [
      "<class 'pandas.core.frame.DataFrame'>\n",
      "RangeIndex: 244126 entries, 0 to 244125\n",
      "Data columns (total 4 columns):\n",
      " #   Column          Non-Null Count   Dtype \n",
      "---  ------          --------------   ----- \n",
      " 0   EventName       244126 non-null  object\n",
      " 1   DeviceIDHash    244126 non-null  int64 \n",
      " 2   EventTimestamp  244126 non-null  int64 \n",
      " 3   ExpId           244126 non-null  int64 \n",
      "dtypes: int64(3), object(1)\n",
      "memory usage: 7.5+ MB\n"
     ]
    }
   ],
   "source": [
    "df.info()"
   ]
  },
  {
   "cell_type": "markdown",
   "id": "a2079d53",
   "metadata": {},
   "source": [
    "**на 1 шаге мы:**\n",
    "\n",
    "1) импортировали библиотеки;\n",
    "\n",
    "2) записали данные в датафрейм;\n",
    "\n",
    "3) изучили общую информацию о полученном датафрейме."
   ]
  },
  {
   "cell_type": "markdown",
   "id": "5581f3be",
   "metadata": {},
   "source": [
    "## Шаг 2. Подготовьте данные."
   ]
  },
  {
   "cell_type": "markdown",
   "id": "b48c42dc",
   "metadata": {},
   "source": [
    "#### 1. Замените названия столбцов на удобные для вас."
   ]
  },
  {
   "cell_type": "code",
   "execution_count": 5,
   "id": "8ba1bf53",
   "metadata": {},
   "outputs": [],
   "source": [
    "df.columns = ['event_name', 'user_id', 'timestamp', 'group']"
   ]
  },
  {
   "cell_type": "markdown",
   "id": "24d195ac",
   "metadata": {},
   "source": [
    "####  2. Проверьте пропуски и типы данных."
   ]
  },
  {
   "cell_type": "code",
   "execution_count": 6,
   "id": "b0062f14",
   "metadata": {
    "scrolled": true
   },
   "outputs": [
    {
     "data": {
      "text/plain": [
       "event_name    0\n",
       "user_id       0\n",
       "timestamp     0\n",
       "group         0\n",
       "dtype: int64"
      ]
     },
     "execution_count": 6,
     "metadata": {},
     "output_type": "execute_result"
    }
   ],
   "source": [
    "#проверим на пропуски:\n",
    "df.isna().sum()"
   ]
  },
  {
   "cell_type": "code",
   "execution_count": 7,
   "id": "550b9b97",
   "metadata": {},
   "outputs": [
    {
     "data": {
      "text/plain": [
       "413"
      ]
     },
     "execution_count": 7,
     "metadata": {},
     "output_type": "execute_result"
    }
   ],
   "source": [
    "#Проверим на явные дубликаты:\n",
    "df.duplicated().sum()"
   ]
  },
  {
   "cell_type": "code",
   "execution_count": 8,
   "id": "cb90f497",
   "metadata": {},
   "outputs": [
    {
     "name": "stdout",
     "output_type": "stream",
     "text": [
      "доля дубликатов 0.2%\n"
     ]
    }
   ],
   "source": [
    "#посчитаем долю\n",
    "print(f\"доля дубликатов {df.duplicated().sum()/df['user_id'].count():.1%}\")"
   ]
  },
  {
   "cell_type": "markdown",
   "id": "ab8207bd",
   "metadata": {},
   "source": [
    "<div class=\"alert alert-warning\">\n",
    "<b>Комментарий с советом ревьюера:</b> \n",
    "    \n",
    "Для понимания того, какую часть составляют дубликаты и какой объем ты удаляешь, лучше дополнительно посчитать долю.\n",
    " </div>\n"
   ]
  },
  {
   "cell_type": "markdown",
   "id": "7a9ab6a7",
   "metadata": {},
   "source": [
    "<div class=\"alert alert-info\"> <b>Комментарий студента:</b> \n",
    "\n",
    "Добавил)\n",
    "</div>"
   ]
  },
  {
   "cell_type": "markdown",
   "id": "4c225ba6",
   "metadata": {},
   "source": [
    "<div class=\"alert alert-success\">\n",
    "<b>Комментарий с комплиментом ревьюера в2:</b> \n",
    "    \n",
    "Отлично 👍\n",
    "    "
   ]
  },
  {
   "cell_type": "code",
   "execution_count": 9,
   "id": "999061e5",
   "metadata": {},
   "outputs": [],
   "source": [
    "#удалим явные дубликаты:\n",
    "df = df.drop_duplicates().reset_index(drop=True)"
   ]
  },
  {
   "cell_type": "code",
   "execution_count": 10,
   "id": "f3043edc",
   "metadata": {},
   "outputs": [
    {
     "data": {
      "text/plain": [
       "0"
      ]
     },
     "execution_count": 10,
     "metadata": {},
     "output_type": "execute_result"
    }
   ],
   "source": [
    "df.duplicated().sum()"
   ]
  },
  {
   "cell_type": "markdown",
   "id": "771bc26a",
   "metadata": {},
   "source": [
    "#### 3. Добавьте столбец даты и времени, а также отдельный столбец дат"
   ]
  },
  {
   "cell_type": "code",
   "execution_count": 11,
   "id": "cdd594b1",
   "metadata": {},
   "outputs": [],
   "source": [
    "# Создадим поле `datetime` с датой и временем:\n",
    "df['dt'] = pd.to_datetime(df['timestamp'], unit='s')\n",
    "\n",
    "# Добавим поле с датой:\n",
    "df['date'] = pd.to_datetime(df['dt'].dt.date)"
   ]
  },
  {
   "cell_type": "markdown",
   "id": "e33fce3a",
   "metadata": {},
   "source": [
    "#### 4. Проверим отсутствие пересечения пользователей в группах"
   ]
  },
  {
   "cell_type": "code",
   "execution_count": 12,
   "id": "d9bf73ed",
   "metadata": {},
   "outputs": [],
   "source": [
    "#создадим списки уникальных пользователей в каждой группе\n",
    "g246 = df.query('group == 246')['user_id'].unique()\n",
    "g247 = df.query('group == 247')['user_id'].unique()\n",
    "g248 = df.query('group == 248')['user_id'].unique()"
   ]
  },
  {
   "cell_type": "code",
   "execution_count": 13,
   "id": "276aa1e8",
   "metadata": {},
   "outputs": [
    {
     "name": "stdout",
     "output_type": "stream",
     "text": [
      "0\n"
     ]
    }
   ],
   "source": [
    "#проверим пересечения в группах 246 и 247\n",
    "intersection_1 = []\n",
    "for i in g246:\n",
    "  if i in g247:\n",
    "    intersection_1.append(i)\n",
    "print(len(intersection_1))"
   ]
  },
  {
   "cell_type": "code",
   "execution_count": 14,
   "id": "897de098",
   "metadata": {},
   "outputs": [
    {
     "name": "stdout",
     "output_type": "stream",
     "text": [
      "0\n"
     ]
    }
   ],
   "source": [
    "#проверим пересечения в группах 246 и 248\n",
    "intersection_2 = []\n",
    "for i in g246:\n",
    "  if i in g248:\n",
    "    intersection_2.append(i)\n",
    "print(len(intersection_2))"
   ]
  },
  {
   "cell_type": "code",
   "execution_count": 15,
   "id": "8a3d2aa1",
   "metadata": {},
   "outputs": [
    {
     "name": "stdout",
     "output_type": "stream",
     "text": [
      "0\n"
     ]
    }
   ],
   "source": [
    "#проверим пересечения в группах 247 и 248\n",
    "intersection_3 = []\n",
    "for i in g247:\n",
    "  if i in g248:\n",
    "    intersection_3.append(i)\n",
    "print(len(intersection_3))"
   ]
  },
  {
   "cell_type": "markdown",
   "id": "6151d291",
   "metadata": {},
   "source": [
    "**на 2 шаге мы:**\n",
    "\n",
    "1) переписали названия столбцов для удобства\n",
    "\n",
    "2) проверили датафреймы на пропуски и дубликаты\n",
    "\n",
    "3) добавили новые столбцы с типами данных datetime\n",
    "\n",
    "4) Проверили отсутствие пересечения пользователей в группах: пересечений нет."
   ]
  },
  {
   "cell_type": "markdown",
   "id": "2c4fc5fd",
   "metadata": {},
   "source": [
    "<div class=\"alert alert-success\">\n",
    "<b>Комментарий с комплиментом ревьюера:</b> \n",
    "    \n",
    "Данные подготовлены верно, молодец. 👍\n",
    "\n",
    "Молодец, что используешь метод info() для изучения данных, корректируешь типы данных, проверяешь на дубликаты и корректно переименовываешь названия столбцов.</div>\n"
   ]
  },
  {
   "cell_type": "markdown",
   "id": "e694ddef",
   "metadata": {},
   "source": [
    "\n",
    "<div class=\"alert alert-danger\">\n",
    "<b>Комментарий с замечанием ревьюера:</b> \n",
    "    \n",
    "Для корректного проведения A/B-тестирования необходимо, чтобы пользователи в группах не пересекались, т.е. не должно возникать такого, что один пользователь оказался сразу в двух или тем более трех группах. Поэтому стоит на данном этапе также проверить __отсутствие пересечения пользователей в группах__.\n",
    " </div>\n"
   ]
  },
  {
   "cell_type": "markdown",
   "id": "01bd4e95",
   "metadata": {},
   "source": [
    "<div class=\"alert alert-info\"> <b>Комментарий студента:</b> \n",
    "\n",
    "Проверил)\n",
    "</div>"
   ]
  },
  {
   "cell_type": "markdown",
   "id": "59244f96",
   "metadata": {},
   "source": [
    "<div class=\"alert alert-success\">\n",
    "<b>Комментарий с комплиментом ревьюера в2:</b> \n",
    "\n",
    "Верно 👍\n",
    "    "
   ]
  },
  {
   "cell_type": "markdown",
   "id": "51cb5fbe",
   "metadata": {},
   "source": [
    "## Шаг 3. Изучите и проверьте данные."
   ]
  },
  {
   "cell_type": "markdown",
   "id": "1bc29e9f",
   "metadata": {},
   "source": [
    "#### 1. Сколько всего событий в логе?"
   ]
  },
  {
   "cell_type": "code",
   "execution_count": 16,
   "id": "0df80752",
   "metadata": {},
   "outputs": [
    {
     "data": {
      "text/plain": [
       "243713"
      ]
     },
     "execution_count": 16,
     "metadata": {},
     "output_type": "execute_result"
    }
   ],
   "source": [
    "df['event_name'].count()"
   ]
  },
  {
   "cell_type": "markdown",
   "id": "5f6d3e8b",
   "metadata": {},
   "source": [
    "*всего 243713 событий в логе*"
   ]
  },
  {
   "cell_type": "markdown",
   "id": "9afb577f",
   "metadata": {},
   "source": [
    "#### 2. Сколько всего пользователей в логе?"
   ]
  },
  {
   "cell_type": "code",
   "execution_count": 17,
   "id": "c9d6d9f5",
   "metadata": {
    "scrolled": false
   },
   "outputs": [
    {
     "data": {
      "text/plain": [
       "7551"
      ]
     },
     "execution_count": 17,
     "metadata": {},
     "output_type": "execute_result"
    }
   ],
   "source": [
    "df['user_id'].nunique()"
   ]
  },
  {
   "cell_type": "markdown",
   "id": "38d35e7d",
   "metadata": {},
   "source": [
    "*уникальных пользователей 7551*"
   ]
  },
  {
   "cell_type": "markdown",
   "id": "f37fb864",
   "metadata": {},
   "source": [
    "#### 3. Сколько в среднем событий приходится на пользователя?"
   ]
  },
  {
   "cell_type": "code",
   "execution_count": 18,
   "id": "1163c6f2",
   "metadata": {},
   "outputs": [
    {
     "data": {
      "text/plain": [
       "20.0"
      ]
     },
     "execution_count": 18,
     "metadata": {},
     "output_type": "execute_result"
    }
   ],
   "source": [
    "df.groupby('user_id')['event_name'].agg('count').median()"
   ]
  },
  {
   "cell_type": "markdown",
   "id": "77764dbe",
   "metadata": {},
   "source": [
    "*в среднем 20 событий приходится на 1 пользователя*"
   ]
  },
  {
   "cell_type": "markdown",
   "id": "a7ae26a7",
   "metadata": {},
   "source": [
    "#### 4. Максимальная и минимальная дата"
   ]
  },
  {
   "cell_type": "code",
   "execution_count": 19,
   "id": "52d599b8",
   "metadata": {},
   "outputs": [
    {
     "name": "stdout",
     "output_type": "stream",
     "text": [
      "2019-07-25 04:43:36\n"
     ]
    }
   ],
   "source": [
    "#минимальная дата:\n",
    "print(df['dt'].min())"
   ]
  },
  {
   "cell_type": "code",
   "execution_count": 20,
   "id": "d8c716d5",
   "metadata": {},
   "outputs": [
    {
     "name": "stdout",
     "output_type": "stream",
     "text": [
      "2019-08-07 21:15:17\n"
     ]
    }
   ],
   "source": [
    "#максимальная дата:\n",
    "print(df['dt'].max())"
   ]
  },
  {
   "cell_type": "code",
   "execution_count": 21,
   "id": "0c833c11",
   "metadata": {},
   "outputs": [
    {
     "data": {
      "image/png": "[encoded data removed]",
      "text/plain": [
       "<Figure size 1080x720 with 1 Axes>"
      ]
     },
     "metadata": {
      "needs_background": "light"
     },
     "output_type": "display_data"
    }
   ],
   "source": [
    "#построим гистограмму:\n",
    "df['dt'].hist(bins=100,  figsize=(15, 10))\n",
    "plt.title('Распределение событий по дате')\n",
    "plt.ylabel('Количество событий')\n",
    "plt.xlabel('Дата')\n",
    "plt.show()"
   ]
  },
  {
   "cell_type": "markdown",
   "id": "f832d7d2",
   "metadata": {},
   "source": [
    "*Даны данные с 25.07.19 по 07.08.2019, однако по гистограмме видно что мы обладает полными данными только  с 01.08.19.*"
   ]
  },
  {
   "cell_type": "markdown",
   "id": "779ef586",
   "metadata": {},
   "source": [
    "<div class=\"alert alert-danger\">\n",
    "<b>Комментарий с замечанием ревьюера:</b>\n",
    "\n",
    "График будет смотреться значительно лучше, если добавить подписи осей. \n",
    "</div>\n"
   ]
  },
  {
   "cell_type": "markdown",
   "id": "1232a307",
   "metadata": {},
   "source": [
    "<div class=\"alert alert-info\"> <b>Комментарий студента:</b> \n",
    "\n",
    "Добавил)\n",
    "</div>"
   ]
  },
  {
   "cell_type": "markdown",
   "id": "7d27ce5a",
   "metadata": {},
   "source": [
    "<div class=\"alert alert-success\">\n",
    "<b>Комментарий с комплиментом ревьюера в2:</b> \n",
    "    \n",
    "Отлично 👍\n",
    "    "
   ]
  },
  {
   "cell_type": "markdown",
   "id": "f2cc6b95",
   "metadata": {},
   "source": [
    "\n",
    "<div class=\"alert alert-success\">\n",
    "<b>Комментарий с комплиментом ревьюера:</b>\n",
    "    \n",
    "Отлично, данные проанализированы корректно. </div>\n"
   ]
  },
  {
   "cell_type": "code",
   "execution_count": 22,
   "id": "f74fd768",
   "metadata": {},
   "outputs": [],
   "source": [
    "#отбросим период с неполными датами:\n",
    "df_act = df.query('dt >= \"2019-08-01\"')"
   ]
  },
  {
   "cell_type": "code",
   "execution_count": 23,
   "id": "8c0973a7",
   "metadata": {},
   "outputs": [
    {
     "data": {
      "text/plain": [
       "2826"
      ]
     },
     "execution_count": 23,
     "metadata": {},
     "output_type": "execute_result"
    }
   ],
   "source": [
    "#посчитаем потерю событий:\n",
    "len(df) - len(df_act)"
   ]
  },
  {
   "cell_type": "code",
   "execution_count": 24,
   "id": "0be2db7c",
   "metadata": {},
   "outputs": [
    {
     "name": "stdout",
     "output_type": "stream",
     "text": [
      "доля потерянных событий 1.2%\n"
     ]
    }
   ],
   "source": [
    "print(f\"доля потерянных событий {(len(df) - len(df_act))/len(df):.1%}\")"
   ]
  },
  {
   "cell_type": "code",
   "execution_count": 25,
   "id": "b602db8a",
   "metadata": {},
   "outputs": [
    {
     "data": {
      "text/plain": [
       "17"
      ]
     },
     "execution_count": 25,
     "metadata": {},
     "output_type": "execute_result"
    }
   ],
   "source": [
    "#посчитаем потерю пользователей:\n",
    "df['user_id'].nunique()-df_act['user_id'].nunique()"
   ]
  },
  {
   "cell_type": "code",
   "execution_count": 26,
   "id": "752a2fa5",
   "metadata": {},
   "outputs": [
    {
     "name": "stdout",
     "output_type": "stream",
     "text": [
      "доля потерянных пользователей 0.2%\n"
     ]
    }
   ],
   "source": [
    "print(f\"доля потерянных пользователей {(df['user_id'].nunique()-df_act['user_id'].nunique())/df['user_id'].nunique():.1%}\")"
   ]
  },
  {
   "cell_type": "markdown",
   "id": "94362c9b",
   "metadata": {},
   "source": [
    "<div class=\"alert alert-warning\">\n",
    "<b>Комментарий с небольшим замечанием ревьюера:</b>\n",
    "\n",
    "Напиши, пожалуйста, потери не только в абсолютных числах, но и в долях, как по количеству событий, так и по количеству уникальных пользователей.    \n",
    "</div>\n"
   ]
  },
  {
   "cell_type": "markdown",
   "id": "2a512870",
   "metadata": {},
   "source": [
    "<div class=\"alert alert-info\"> <b>Комментарий студента:</b> \n",
    "\n",
    "Добавил)\n",
    "</div>"
   ]
  },
  {
   "cell_type": "markdown",
   "id": "6ecfc9e9",
   "metadata": {},
   "source": [
    "<div class=\"alert alert-success\">\n",
    "<b>Комментарий с комплиментом ревьюера в2:</b> \n",
    "    \n",
    "Отлично 👍\n",
    "    "
   ]
  },
  {
   "cell_type": "code",
   "execution_count": 27,
   "id": "655f5a58",
   "metadata": {},
   "outputs": [
    {
     "data": {
      "text/html": [
       "<div>\n",
       "<style scoped>\n",
       "    .dataframe tbody tr th:only-of-type {\n",
       "        vertical-align: middle;\n",
       "    }\n",
       "\n",
       "    .dataframe tbody tr th {\n",
       "        vertical-align: top;\n",
       "    }\n",
       "\n",
       "    .dataframe thead th {\n",
       "        text-align: right;\n",
       "    }\n",
       "</style>\n",
       "<table border=\"1\" class=\"dataframe\">\n",
       "  <thead>\n",
       "    <tr style=\"text-align: right;\">\n",
       "      <th></th>\n",
       "      <th>user_id</th>\n",
       "    </tr>\n",
       "    <tr>\n",
       "      <th>group</th>\n",
       "      <th></th>\n",
       "    </tr>\n",
       "  </thead>\n",
       "  <tbody>\n",
       "    <tr>\n",
       "      <th>246</th>\n",
       "      <td>79302</td>\n",
       "    </tr>\n",
       "    <tr>\n",
       "      <th>247</th>\n",
       "      <td>77022</td>\n",
       "    </tr>\n",
       "    <tr>\n",
       "      <th>248</th>\n",
       "      <td>84563</td>\n",
       "    </tr>\n",
       "  </tbody>\n",
       "</table>\n",
       "</div>"
      ],
      "text/plain": [
       "       user_id\n",
       "group         \n",
       "246      79302\n",
       "247      77022\n",
       "248      84563"
      ]
     },
     "execution_count": 27,
     "metadata": {},
     "output_type": "execute_result"
    }
   ],
   "source": [
    "#проверим, есть ли пользователи из всех трёх экспериментальных групп.\n",
    "df_act.pivot_table(index = 'group', values = 'user_id', aggfunc = 'count')"
   ]
  },
  {
   "cell_type": "markdown",
   "id": "c3422dce",
   "metadata": {},
   "source": [
    "**На 3 шаге мы:**\n",
    "1) Посчитали сколько событий в логе: 243713;\n",
    "\n",
    "2) Посчитали количство уникальных пользователей: 7551;\n",
    "\n",
    "3) Посчитали сколько событий в среднем приходится на пользователя: 20;\n",
    "\n",
    "4) Определили минимальную и максимальную дату событий: 2019-07-25 и 2019-08-07 соответственно, однако полные данные оказались лишь 2019-08-01 по 2019-08-07;\n",
    "\n",
    "5) Обросили неполные данные и посчитали потери:\n",
    "\n",
    "    -потеря событий всего 2826 из 243713 (1,2%)\n",
    "    \n",
    "    -потеря пользователей 17 из 7551 (0,2%)"
   ]
  },
  {
   "cell_type": "markdown",
   "id": "d836ed06",
   "metadata": {},
   "source": [
    "<div class=\"alert alert-success\">\n",
    "<b>Комментарий с комплиментом ревьюера:</b> \n",
    "    \n",
    "Здорово, что добавлен промежуточный вывод по проведенному анализу 👍\n",
    "</div>\n"
   ]
  },
  {
   "cell_type": "markdown",
   "id": "fec9bd37",
   "metadata": {},
   "source": [
    "## Шаг 4. Изучите воронку событий."
   ]
  },
  {
   "cell_type": "markdown",
   "id": "f2a3ff07",
   "metadata": {},
   "source": [
    "#### 1. Посмотрим, какие события есть в логах, как часто они встречаются. Отсортируем события по частоте."
   ]
  },
  {
   "cell_type": "code",
   "execution_count": 28,
   "id": "9d076057",
   "metadata": {},
   "outputs": [
    {
     "data": {
      "text/html": [
       "<div>\n",
       "<style scoped>\n",
       "    .dataframe tbody tr th:only-of-type {\n",
       "        vertical-align: middle;\n",
       "    }\n",
       "\n",
       "    .dataframe tbody tr th {\n",
       "        vertical-align: top;\n",
       "    }\n",
       "\n",
       "    .dataframe thead th {\n",
       "        text-align: right;\n",
       "    }\n",
       "</style>\n",
       "<table border=\"1\" class=\"dataframe\">\n",
       "  <thead>\n",
       "    <tr style=\"text-align: right;\">\n",
       "      <th></th>\n",
       "      <th>count</th>\n",
       "    </tr>\n",
       "    <tr>\n",
       "      <th>event_name</th>\n",
       "      <th></th>\n",
       "    </tr>\n",
       "  </thead>\n",
       "  <tbody>\n",
       "    <tr>\n",
       "      <th>MainScreenAppear</th>\n",
       "      <td>117328</td>\n",
       "    </tr>\n",
       "    <tr>\n",
       "      <th>OffersScreenAppear</th>\n",
       "      <td>46333</td>\n",
       "    </tr>\n",
       "    <tr>\n",
       "      <th>CartScreenAppear</th>\n",
       "      <td>42303</td>\n",
       "    </tr>\n",
       "    <tr>\n",
       "      <th>PaymentScreenSuccessful</th>\n",
       "      <td>33918</td>\n",
       "    </tr>\n",
       "    <tr>\n",
       "      <th>Tutorial</th>\n",
       "      <td>1005</td>\n",
       "    </tr>\n",
       "  </tbody>\n",
       "</table>\n",
       "</div>"
      ],
      "text/plain": [
       "                          count\n",
       "event_name                     \n",
       "MainScreenAppear         117328\n",
       "OffersScreenAppear        46333\n",
       "CartScreenAppear          42303\n",
       "PaymentScreenSuccessful   33918\n",
       "Tutorial                   1005"
      ]
     },
     "execution_count": 28,
     "metadata": {},
     "output_type": "execute_result"
    }
   ],
   "source": [
    "df_act.groupby('event_name').agg(count = ('user_id', 'count')).sort_values(by = 'count', ascending=False)"
   ]
  },
  {
   "cell_type": "markdown",
   "id": "d3c80481",
   "metadata": {},
   "source": [
    "#### 2. Посчитаем, сколько пользователей совершали каждое из этих событий. Отсортируем события по числу пользователей. Посчитаем долю пользователей, которые хоть раз совершали событие."
   ]
  },
  {
   "cell_type": "code",
   "execution_count": 29,
   "id": "bb8b9141",
   "metadata": {},
   "outputs": [
    {
     "data": {
      "text/html": [
       "<div>\n",
       "<style scoped>\n",
       "    .dataframe tbody tr th:only-of-type {\n",
       "        vertical-align: middle;\n",
       "    }\n",
       "\n",
       "    .dataframe tbody tr th {\n",
       "        vertical-align: top;\n",
       "    }\n",
       "\n",
       "    .dataframe thead th {\n",
       "        text-align: right;\n",
       "    }\n",
       "</style>\n",
       "<table border=\"1\" class=\"dataframe\">\n",
       "  <thead>\n",
       "    <tr style=\"text-align: right;\">\n",
       "      <th></th>\n",
       "      <th>users</th>\n",
       "      <th>ratio</th>\n",
       "    </tr>\n",
       "    <tr>\n",
       "      <th>event_name</th>\n",
       "      <th></th>\n",
       "      <th></th>\n",
       "    </tr>\n",
       "  </thead>\n",
       "  <tbody>\n",
       "    <tr>\n",
       "      <th>MainScreenAppear</th>\n",
       "      <td>7419</td>\n",
       "      <td>98.47</td>\n",
       "    </tr>\n",
       "    <tr>\n",
       "      <th>OffersScreenAppear</th>\n",
       "      <td>4593</td>\n",
       "      <td>60.96</td>\n",
       "    </tr>\n",
       "    <tr>\n",
       "      <th>CartScreenAppear</th>\n",
       "      <td>3734</td>\n",
       "      <td>49.56</td>\n",
       "    </tr>\n",
       "    <tr>\n",
       "      <th>PaymentScreenSuccessful</th>\n",
       "      <td>3539</td>\n",
       "      <td>46.97</td>\n",
       "    </tr>\n",
       "    <tr>\n",
       "      <th>Tutorial</th>\n",
       "      <td>840</td>\n",
       "      <td>11.15</td>\n",
       "    </tr>\n",
       "  </tbody>\n",
       "</table>\n",
       "</div>"
      ],
      "text/plain": [
       "                         users  ratio\n",
       "event_name                           \n",
       "MainScreenAppear          7419  98.47\n",
       "OffersScreenAppear        4593  60.96\n",
       "CartScreenAppear          3734  49.56\n",
       "PaymentScreenSuccessful   3539  46.97\n",
       "Tutorial                   840  11.15"
      ]
     },
     "execution_count": 29,
     "metadata": {},
     "output_type": "execute_result"
    }
   ],
   "source": [
    "user_per_event = df_act.groupby('event_name').agg(users=('user_id','nunique')).sort_values('users', ascending=False)\n",
    "user_per_event['ratio'] = round(user_per_event['users']/df_act['user_id'].nunique() * 100, 2)\n",
    "user_per_event"
   ]
  },
  {
   "cell_type": "markdown",
   "id": "31ea37f2",
   "metadata": {},
   "source": [
    "#### 3. Предположим, в каком порядке происходят события. Все ли они выстраиваются в последовательную цепочку?"
   ]
  },
  {
   "cell_type": "markdown",
   "id": "e5094ea6",
   "metadata": {},
   "source": [
    "**Предположим, что пользователь**\n",
    "\n",
    "- сначала открывает главную страницу приложения(MainScreenAppear);\n",
    "- потом в каталоге выбирает товары(OffersScreenAppear);\n",
    "- кладёт их в корзину(CartScreenAppear);\n",
    "- оплачивает(PaymentScreenSuccessful).\n",
    "\n",
    "*руководство в эту цепочку не входит(Tutorial)*"
   ]
  },
  {
   "cell_type": "markdown",
   "id": "c7b26ffc",
   "metadata": {},
   "source": [
    "<div class=\"alert alert-success\">\n",
    "<b>Комментарий с комплиментом ревьюера:</b>\n",
    "    \n",
    "Доля пользователей, которые совершали каждое из этих событий посчитана правильно. \n",
    "\n",
    "Верно, что исключено событие Tutorial, его нельзя встроить в воронку. 👍\n",
    "</div>\n"
   ]
  },
  {
   "cell_type": "markdown",
   "id": "59acc15a",
   "metadata": {},
   "source": [
    "#### 4. По воронке событий посчитаем, какая доля пользователей проходит на следующий шаг воронки (от числа пользователей на предыдущем)."
   ]
  },
  {
   "cell_type": "code",
   "execution_count": 30,
   "id": "8f4495d2",
   "metadata": {},
   "outputs": [
    {
     "data": {
      "text/html": [
       "<div>\n",
       "<style scoped>\n",
       "    .dataframe tbody tr th:only-of-type {\n",
       "        vertical-align: middle;\n",
       "    }\n",
       "\n",
       "    .dataframe tbody tr th {\n",
       "        vertical-align: top;\n",
       "    }\n",
       "\n",
       "    .dataframe thead th {\n",
       "        text-align: right;\n",
       "    }\n",
       "</style>\n",
       "<table border=\"1\" class=\"dataframe\">\n",
       "  <thead>\n",
       "    <tr style=\"text-align: right;\">\n",
       "      <th></th>\n",
       "      <th>user_id</th>\n",
       "      <th>conversion</th>\n",
       "    </tr>\n",
       "    <tr>\n",
       "      <th>event_name</th>\n",
       "      <th></th>\n",
       "      <th></th>\n",
       "    </tr>\n",
       "  </thead>\n",
       "  <tbody>\n",
       "    <tr>\n",
       "      <th>MainScreenAppear</th>\n",
       "      <td>7439</td>\n",
       "      <td>100.0</td>\n",
       "    </tr>\n",
       "    <tr>\n",
       "      <th>OffersScreenAppear</th>\n",
       "      <td>4613</td>\n",
       "      <td>62.0</td>\n",
       "    </tr>\n",
       "    <tr>\n",
       "      <th>CartScreenAppear</th>\n",
       "      <td>3749</td>\n",
       "      <td>81.3</td>\n",
       "    </tr>\n",
       "    <tr>\n",
       "      <th>PaymentScreenSuccessful</th>\n",
       "      <td>3547</td>\n",
       "      <td>94.6</td>\n",
       "    </tr>\n",
       "  </tbody>\n",
       "</table>\n",
       "</div>"
      ],
      "text/plain": [
       "                         user_id  conversion\n",
       "event_name                                  \n",
       "MainScreenAppear            7439       100.0\n",
       "OffersScreenAppear          4613        62.0\n",
       "CartScreenAppear            3749        81.3\n",
       "PaymentScreenSuccessful     3547        94.6"
      ]
     },
     "execution_count": 30,
     "metadata": {},
     "output_type": "execute_result"
    }
   ],
   "source": [
    "#создадим сводную таблицу с количеством уникальных пользователей совершавших каждое из событий\n",
    "user_to_event = df.query('event_name != \"Tutorial\"').pivot_table(index = 'event_name', values = 'user_id', aggfunc = 'nunique').sort_values(by = 'user_id', ascending = False)\n",
    "#добавим столбец со смещенными значениями количества пользователей методом shift\n",
    "#недостающее значение заполним первым значением столбца параметром fill_value\n",
    "user_to_event['shift'] = user_to_event['user_id'].shift(1, fill_value = user_to_event['user_id'].loc[user_to_event.index[0]])\n",
    "#посчитаем и добавим столбец с конверсией округленной до 1 десятка\n",
    "user_to_event['conversion'] = round(user_to_event['user_id']/user_to_event['shift']*100, 1)\n",
    "#в итоговой таблице оставим только количество уникальных пользователей и конверсией\n",
    "user_to_event = user_to_event[['user_id', 'conversion']]\n",
    "user_to_event"
   ]
  },
  {
   "cell_type": "markdown",
   "id": "95f9cebe",
   "metadata": {},
   "source": [
    "<div class=\"alert alert-danger\">\n",
    "<b>Комментарий с замечанием ревьюера:</b>\n",
    "\n",
    "Скорректируй, пожалуйста, расчет доли пользователей, которые проходят на следующий шаг воронки.\n",
    "\n",
    "Здесь у нас не строгая воронка и пользователи могут свободно перемещаться между этапами, поэтому тут нужно анализировать количество уникальных на каждом этапе, не зависимо были ли они на предыдущем шаге. Здесь можно воспользоваться методом shift(). https://teletype.in/@pythontalk/pandas_shift</div>\n"
   ]
  },
  {
   "cell_type": "markdown",
   "id": "08dc9513",
   "metadata": {},
   "source": [
    "<div class=\"alert alert-info\"> <b>Комментарий студента:</b> \n",
    "\n",
    "Видимо не очень правильно понял ТЗ)\n",
    "\n",
    "Исправил) Спасибо за новый метод shift!)\n",
    "</div>"
   ]
  },
  {
   "cell_type": "markdown",
   "id": "07246019",
   "metadata": {},
   "source": [
    "<div class=\"alert alert-success\">\n",
    "<b>Комментарий с комплиментом ревьюера в2:</b> \n",
    "    \n",
    "Корректно 👍\n",
    "    "
   ]
  },
  {
   "cell_type": "markdown",
   "id": "1b4d3509",
   "metadata": {},
   "source": [
    "#### 5. На каком шаге теряете больше всего пользователей?"
   ]
  },
  {
   "cell_type": "markdown",
   "id": "04645426",
   "metadata": {},
   "source": [
    "*Большинство пользователей теряется после первого шага(чуть меньше половины)*"
   ]
  },
  {
   "cell_type": "markdown",
   "id": "cc7b9fc7",
   "metadata": {},
   "source": [
    "#### 6. Какая доля пользователей доходит от первого события до оплаты?"
   ]
  },
  {
   "cell_type": "code",
   "execution_count": 31,
   "id": "e39f4626",
   "metadata": {},
   "outputs": [
    {
     "name": "stdout",
     "output_type": "stream",
     "text": [
      "Доля пользователей прошедших от первого события до оплаты 47.7%\n"
     ]
    }
   ],
   "source": [
    "print(f\"Доля пользователей прошедших от первого события до оплаты {user_to_event['user_id'].loc[user_to_event.index[-1]]/user_to_event['user_id'].loc[user_to_event.index[0]]:.1%}\")"
   ]
  },
  {
   "cell_type": "markdown",
   "id": "cba3870b",
   "metadata": {},
   "source": [
    "<div class=\"alert alert-danger\">\n",
    "<b>Комментарий с замечанием ревьюера:</b>\n",
    "\n",
    "после корректировки замечания выше, скорректируй, пожалуйста, эти пункты тоже.</div>\n"
   ]
  },
  {
   "cell_type": "markdown",
   "id": "e78a182b",
   "metadata": {},
   "source": [
    "<div class=\"alert alert-info\"> <b>Комментарий студента:</b> \n",
    "\n",
    "Видимо не очень правильно понял ТЗ)\n",
    "\n",
    "Исправил) Спасибо за новый метод shift!)\n",
    "</div>"
   ]
  },
  {
   "cell_type": "markdown",
   "id": "4be0842d",
   "metadata": {},
   "source": [
    "<div class=\"alert alert-success\">\n",
    "<b>Комментарий с комплиментом ревьюера в2:</b> \n",
    "    \n",
    "Компактный и удобный метод\n",
    "    "
   ]
  },
  {
   "cell_type": "markdown",
   "id": "50339252",
   "metadata": {},
   "source": [
    "**На 4 шаге мы:**\n",
    "1) Посмотрели, как часто встречаются события в логе:\n",
    "\n",
    "    - MainScreenAppear - 117328 раз;\n",
    "    \n",
    "    - OffersScreenAppear - 46333 раз;\n",
    "    \n",
    "    - CartScreenAppear - 42303 раз;\n",
    "    \n",
    "    - PaymentScreenSuccessful - 33918 раз;\n",
    "    \n",
    "    - Tutorial - 1005 раз.\n",
    "\n",
    "2) Посчитали, сколько пользователей совершали каждое из этих событий и долю пользователей, которые хоть раз совершали событие:\n",
    "\n",
    "    - MainScreenAppear - 7419 пользователей (98.47%);\n",
    "    \n",
    "    - OffersScreenAppear - 4593 пользователей (60.96%);\n",
    "    \n",
    "    - СartScreenAppear - 3734 пользователей (49.56%);\n",
    "    \n",
    "    - PaymentScreenSuccessful - 3539 пользователей (46.97%);\n",
    "    \n",
    "    - Tutorial - 840 пользователей (11.15%).\n",
    "\n",
    "3) Предположили, в каком порядке происходят события:\n",
    "\n",
    "    - сначала открывает главную страницу приложения(MainScreenAppear);\n",
    "    \n",
    "    - потом в каталоге выбирает товары(OffersScreenAppear);\n",
    "    \n",
    "    - кладёт их в корзину(CartScreenAppear);\n",
    "    \n",
    "    - оплачивает(PaymentScreenSuccessful).\n",
    "    \n",
    "    Откинули событие Tutorial, так как руководство в эту цепочку не входит\n",
    "    \n",
    "\n",
    "4) По воронке событий посчитали, какая доля пользователей проходит на следующий шаг воронки (от числа пользователей на предыдущем):\n",
    "    \n",
    "    - на первом шаге 7419 пользователей;\n",
    "    - до второго шага доходит 4613 пользователей, доля от предыдущего шага 62.0%;\n",
    "    - до третьего шага доходит 3749 пользователей, доля от предыдущего шага 81.3%;\n",
    "    - до четвертого шага доходит 3547, доля от предыдущего шага 94.6%\n",
    "\n",
    "5) Определили, что больше всего пользователей теряется на первом шаге: доля оплативших товар от тех кто дошел до просмотра корзины 62.0%.\n",
    "\n",
    "6) Посчитали, что доля пользователей прошедших от первого события до оплаты 47.7%."
   ]
  },
  {
   "cell_type": "markdown",
   "id": "34e412e2",
   "metadata": {},
   "source": [
    "<div class=\"alert alert-info\"> <b>Комментарий студента:</b> \n",
    "\n",
    "Промежуточный вывод переписал)\n",
    "</div>"
   ]
  },
  {
   "cell_type": "markdown",
   "id": "a41b7664",
   "metadata": {},
   "source": [
    "<div class=\"alert alert-success\">\n",
    "<b>Комментарий с комплиментом ревьюера в2:</b> \n",
    "    \n",
    "Отлично 👍\n",
    "    "
   ]
  },
  {
   "cell_type": "markdown",
   "id": "de430eed",
   "metadata": {},
   "source": [
    "## Шаг 5. Изучите результаты эксперимента."
   ]
  },
  {
   "cell_type": "markdown",
   "id": "7a771629",
   "metadata": {},
   "source": [
    "#### 1. Сколько пользователей в каждой экспериментальной группе?"
   ]
  },
  {
   "cell_type": "code",
   "execution_count": 32,
   "id": "f5340a32",
   "metadata": {
    "scrolled": false
   },
   "outputs": [
    {
     "data": {
      "text/html": [
       "<div>\n",
       "<style scoped>\n",
       "    .dataframe tbody tr th:only-of-type {\n",
       "        vertical-align: middle;\n",
       "    }\n",
       "\n",
       "    .dataframe tbody tr th {\n",
       "        vertical-align: top;\n",
       "    }\n",
       "\n",
       "    .dataframe thead th {\n",
       "        text-align: right;\n",
       "    }\n",
       "</style>\n",
       "<table border=\"1\" class=\"dataframe\">\n",
       "  <thead>\n",
       "    <tr style=\"text-align: right;\">\n",
       "      <th></th>\n",
       "      <th>user_id</th>\n",
       "    </tr>\n",
       "    <tr>\n",
       "      <th>group</th>\n",
       "      <th></th>\n",
       "    </tr>\n",
       "  </thead>\n",
       "  <tbody>\n",
       "    <tr>\n",
       "      <th>246</th>\n",
       "      <td>2484</td>\n",
       "    </tr>\n",
       "    <tr>\n",
       "      <th>247</th>\n",
       "      <td>2513</td>\n",
       "    </tr>\n",
       "    <tr>\n",
       "      <th>248</th>\n",
       "      <td>2537</td>\n",
       "    </tr>\n",
       "  </tbody>\n",
       "</table>\n",
       "</div>"
      ],
      "text/plain": [
       "       user_id\n",
       "group         \n",
       "246       2484\n",
       "247       2513\n",
       "248       2537"
      ]
     },
     "execution_count": 32,
     "metadata": {},
     "output_type": "execute_result"
    }
   ],
   "source": [
    "df_act.pivot_table(index = 'group', values = 'user_id', aggfunc = 'nunique')"
   ]
  },
  {
   "cell_type": "markdown",
   "id": "8273bd56",
   "metadata": {},
   "source": [
    "*есть незначительная разница в количестве пользователей в каждой эксперементальной группе*"
   ]
  },
  {
   "cell_type": "markdown",
   "id": "6515975f",
   "metadata": {},
   "source": [
    "#### 2. Проверим, находят ли статистические критерии разницу между выборками 246 и 247."
   ]
  },
  {
   "cell_type": "markdown",
   "id": "2eeb0ddc",
   "metadata": {},
   "source": [
    "**Критерии успешного A/A-теста:**\n",
    "\n",
    "Количество пользователей в различных группах различается не более, чем на 1%;\n",
    "\n",
    "Для всех групп фиксируют и отправляют в системы аналитики данные об одном и том же;\n",
    "\n",
    "Различие ключевых метрик по группам не превышает 1% и не имеет статистической значимости;\n",
    "\n",
    "Попавший в одну из групп посетитель остаётся в этой группе до конца теста."
   ]
  },
  {
   "cell_type": "markdown",
   "id": "6f5e8644",
   "metadata": {},
   "source": [
    "#### 3. Выберем самое популярное событие. Посчитаем число пользователей, совершивших это событие в каждой из контрольных групп. Посчитаем долю пользователей, совершивших это событие. Проверим, будет ли отличие между группами статистически достоверным. Проделаем то же самое для всех других событий (удобно обернуть проверку в отдельную функцию). "
   ]
  },
  {
   "cell_type": "code",
   "execution_count": 33,
   "id": "2ee7a68d",
   "metadata": {},
   "outputs": [],
   "source": [
    "#Создадим отдельные датасеты с группами\n",
    "group_246 = df_act.query('group == 246')\n",
    "group_247 = df_act.query('group == 247')\n",
    "group_248 = df_act.query('group == 248')"
   ]
  },
  {
   "cell_type": "code",
   "execution_count": 34,
   "id": "86453aac",
   "metadata": {},
   "outputs": [
    {
     "data": {
      "text/html": [
       "<div>\n",
       "<style scoped>\n",
       "    .dataframe tbody tr th:only-of-type {\n",
       "        vertical-align: middle;\n",
       "    }\n",
       "\n",
       "    .dataframe tbody tr th {\n",
       "        vertical-align: top;\n",
       "    }\n",
       "\n",
       "    .dataframe thead th {\n",
       "        text-align: right;\n",
       "    }\n",
       "</style>\n",
       "<table border=\"1\" class=\"dataframe\">\n",
       "  <thead>\n",
       "    <tr style=\"text-align: right;\">\n",
       "      <th></th>\n",
       "      <th>user_id</th>\n",
       "    </tr>\n",
       "    <tr>\n",
       "      <th>event_name</th>\n",
       "      <th></th>\n",
       "    </tr>\n",
       "  </thead>\n",
       "  <tbody>\n",
       "    <tr>\n",
       "      <th>MainScreenAppear</th>\n",
       "      <td>2450</td>\n",
       "    </tr>\n",
       "    <tr>\n",
       "      <th>OffersScreenAppear</th>\n",
       "      <td>1542</td>\n",
       "    </tr>\n",
       "    <tr>\n",
       "      <th>CartScreenAppear</th>\n",
       "      <td>1266</td>\n",
       "    </tr>\n",
       "    <tr>\n",
       "      <th>PaymentScreenSuccessful</th>\n",
       "      <td>1200</td>\n",
       "    </tr>\n",
       "    <tr>\n",
       "      <th>Tutorial</th>\n",
       "      <td>278</td>\n",
       "    </tr>\n",
       "  </tbody>\n",
       "</table>\n",
       "</div>"
      ],
      "text/plain": [
       "                         user_id\n",
       "event_name                      \n",
       "MainScreenAppear            2450\n",
       "OffersScreenAppear          1542\n",
       "CartScreenAppear            1266\n",
       "PaymentScreenSuccessful     1200\n",
       "Tutorial                     278"
      ]
     },
     "execution_count": 34,
     "metadata": {},
     "output_type": "execute_result"
    }
   ],
   "source": [
    "#самое популярное событие в группе 246\n",
    "group_246.pivot_table(index = 'event_name', values = 'user_id', aggfunc = 'nunique').sort_values(by = 'user_id', ascending = False)"
   ]
  },
  {
   "cell_type": "code",
   "execution_count": 35,
   "id": "e3cc46c8",
   "metadata": {},
   "outputs": [
    {
     "data": {
      "text/html": [
       "<div>\n",
       "<style scoped>\n",
       "    .dataframe tbody tr th:only-of-type {\n",
       "        vertical-align: middle;\n",
       "    }\n",
       "\n",
       "    .dataframe tbody tr th {\n",
       "        vertical-align: top;\n",
       "    }\n",
       "\n",
       "    .dataframe thead th {\n",
       "        text-align: right;\n",
       "    }\n",
       "</style>\n",
       "<table border=\"1\" class=\"dataframe\">\n",
       "  <thead>\n",
       "    <tr style=\"text-align: right;\">\n",
       "      <th></th>\n",
       "      <th>user_id</th>\n",
       "    </tr>\n",
       "    <tr>\n",
       "      <th>event_name</th>\n",
       "      <th></th>\n",
       "    </tr>\n",
       "  </thead>\n",
       "  <tbody>\n",
       "    <tr>\n",
       "      <th>MainScreenAppear</th>\n",
       "      <td>2476</td>\n",
       "    </tr>\n",
       "    <tr>\n",
       "      <th>OffersScreenAppear</th>\n",
       "      <td>1520</td>\n",
       "    </tr>\n",
       "    <tr>\n",
       "      <th>CartScreenAppear</th>\n",
       "      <td>1238</td>\n",
       "    </tr>\n",
       "    <tr>\n",
       "      <th>PaymentScreenSuccessful</th>\n",
       "      <td>1158</td>\n",
       "    </tr>\n",
       "    <tr>\n",
       "      <th>Tutorial</th>\n",
       "      <td>283</td>\n",
       "    </tr>\n",
       "  </tbody>\n",
       "</table>\n",
       "</div>"
      ],
      "text/plain": [
       "                         user_id\n",
       "event_name                      \n",
       "MainScreenAppear            2476\n",
       "OffersScreenAppear          1520\n",
       "CartScreenAppear            1238\n",
       "PaymentScreenSuccessful     1158\n",
       "Tutorial                     283"
      ]
     },
     "execution_count": 35,
     "metadata": {},
     "output_type": "execute_result"
    }
   ],
   "source": [
    "#самое популярное событие в группе 247\n",
    "group_247.pivot_table(index = 'event_name', values = 'user_id', aggfunc = 'nunique').sort_values(by = 'user_id', ascending = False)"
   ]
  },
  {
   "cell_type": "markdown",
   "id": "1ac4dd90",
   "metadata": {},
   "source": [
    "**Гипотезы:**\n",
    "\n",
    "*H0:Между долями статистической значимой разницы нет, поведение групп не отличается;*\n",
    "\n",
    "*H1:Между долями статистическая значимая разница есть, поведение групп отличается.*"
   ]
  },
  {
   "cell_type": "markdown",
   "id": "0be05a60",
   "metadata": {},
   "source": [
    "<div class=\"alert alert-danger\">\n",
    "<b>Комментарий с замечанием ревьюера:</b>\n",
    "\n",
    "Перед проверкой гипотез важно формулировать нулевую и альтернативную гипотезы. Чтобы сторонний человек понимал, что проверяется.\n",
    "</div>\n"
   ]
  },
  {
   "cell_type": "markdown",
   "id": "64be64a6",
   "metadata": {},
   "source": [
    "<div class=\"alert alert-info\"> <b>Комментарий студента:</b> \n",
    "\n",
    "Добавил)\n",
    "</div>"
   ]
  },
  {
   "cell_type": "markdown",
   "id": "230e40ae",
   "metadata": {},
   "source": [
    "<div class=\"alert alert-success\">\n",
    "<b>Комментарий с комплиментом ревьюера в2:</b> \n",
    "    \n",
    "Отлично 👍\n",
    "    "
   ]
  },
  {
   "cell_type": "code",
   "execution_count": 36,
   "id": "05de1859",
   "metadata": {},
   "outputs": [
    {
     "name": "stdout",
     "output_type": "stream",
     "text": [
      "p-значение:  0.758737151572354\n",
      "Не получилось отвергнуть нулевую гипотезу, нет оснований считать доли разными\n"
     ]
    }
   ],
   "source": [
    "#критический уровень статистической значимости\n",
    "alpha = 0.05\n",
    "    \n",
    "#количсетво уникальных пользователей совершивших событие в каждой группе \n",
    "un_users_event = np.array([group_246[group_246['event_name'] == 'MainScreenAppear']['user_id'].nunique(), group_247[group_247['event_name'] == 'MainScreenAppear']['user_id'].nunique()])\n",
    "        \n",
    "#количество уникальных пользователей в группах\n",
    "un_users_group = np.array([group_246['user_id'].nunique(), group_247['user_id'].nunique()])\n",
    "    \n",
    "# пропорция успехов в первой группе:\n",
    "p1 = un_users_event[0]/un_users_group[0]\n",
    "# пропорция успехов во второй группе:\n",
    "p2 = un_users_event[1]/un_users_group[1]\n",
    "    \n",
    "# пропорция успехов в комбинированном датасете:\n",
    "p_combined = (un_users_event[0] + un_users_event[1]) / (un_users_group[0] + un_users_group[1])\n",
    "    \n",
    "# разница пропорций в датасетах\n",
    "difference = p1 - p2\n",
    "    \n",
    "# считаем статистику в ст.отклонениях стандартного нормального распределения\n",
    "z_value = difference / mth.sqrt(p_combined * (1 - p_combined) * (1/un_users_event[0] + 1/un_users_event[1]))\n",
    "    \n",
    "# задаем стандартное нормальное распределение (среднее 0, ст.отклонение 1)\n",
    "distr = st.norm(0, 1)  \n",
    "    \n",
    "#Так как распределение статистики нормальное, вызовем метод cdf()\n",
    "#Саму статистику возьмём по модулю методом abs() — чтобы получить правильный результат независимо от её знака.\n",
    "#Это возможно, потому что тест двусторонний. По этой же причине удваиваем результат:\n",
    "p_value = (1 - distr.cdf(abs(z_value))) * 2\n",
    "          \n",
    "print('p-значение: ', p_value)\n",
    "\n",
    "if p_value < alpha:\n",
    "    print('Отвергаем нулевую гипотезу: между долями есть значимая разница')\n",
    "else:\n",
    "    print('Не получилось отвергнуть нулевую гипотезу, нет оснований считать доли разными')"
   ]
  },
  {
   "cell_type": "markdown",
   "id": "6a557424",
   "metadata": {},
   "source": [
    "*обернем все в функцию*"
   ]
  },
  {
   "cell_type": "code",
   "execution_count": 37,
   "id": "7ff6c0d0",
   "metadata": {},
   "outputs": [],
   "source": [
    "#напишем функцию теста статистических различий между группами\n",
    "def test(g1, g2, event_name):\n",
    "    \n",
    "    #критический уровень статистической значимости\n",
    "    alpha = 0.05\n",
    "    \n",
    "    #количсетво уникальных пользователей совершивших событие в каждой группе \n",
    "    un_users_event = np.array([g1[g1['event_name'] == event_name]['user_id'].nunique(), g2[g2['event_name'] == event_name]['user_id'].nunique()])\n",
    "        \n",
    "    #количество уникальных пользователей в группах\n",
    "    un_users_group = np.array([g1['user_id'].nunique(), g2['user_id'].nunique()])\n",
    "    \n",
    "    # пропорция успехов в первой группе:\n",
    "    p1 = un_users_event[0]/un_users_group[0]\n",
    "    # пропорция успехов во второй группе:\n",
    "    p2 = un_users_event[1]/un_users_group[1]\n",
    "    \n",
    "    # пропорция успехов в комбинированном датасете:\n",
    "    p_combined = (un_users_event[0] + un_users_event[1]) / (un_users_group[0] + un_users_group[1])\n",
    "    \n",
    "    # разница пропорций в датасетах\n",
    "    difference = p1 - p2\n",
    "    \n",
    "    # считаем статистику в ст.отклонениях стандартного нормального распределения\n",
    "    z_value = difference / mth.sqrt(p_combined * (1 - p_combined) * (1/un_users_event[0] + 1/un_users_event[1]))\n",
    "    \n",
    "    # задаем стандартное нормальное распределение (среднее 0, ст.отклонение 1)\n",
    "    distr = st.norm(0, 1)  \n",
    "    \n",
    "    #Так как распределение статистики нормальное, вызовем метод cdf()\n",
    "    #Саму статистику возьмём по модулю методом abs() — чтобы получить правильный результат независимо от её знака.\n",
    "    #Это возможно, потому что тест двусторонний. По этой же причине удваиваем результат:\n",
    "    p_value = (1 - distr.cdf(abs(z_value))) * 2\n",
    "    \n",
    "    print(event_name)\n",
    "          \n",
    "    print('p-значение: ', p_value)\n",
    "\n",
    "    if p_value < alpha:\n",
    "        print('Отвергаем нулевую гипотезу: между долями есть значимая разница')\n",
    "    else:\n",
    "        print('Не получилось отвергнуть нулевую гипотезу, нет оснований считать доли разными')\n",
    "    print()"
   ]
  },
  {
   "cell_type": "code",
   "execution_count": 38,
   "id": "11d90f1a",
   "metadata": {},
   "outputs": [
    {
     "name": "stdout",
     "output_type": "stream",
     "text": [
      "MainScreenAppear\n",
      "p-значение:  0.758737151572354\n",
      "Не получилось отвергнуть нулевую гипотезу, нет оснований считать доли разными\n",
      "\n",
      "PaymentScreenSuccessful\n",
      "p-значение:  0.2784401253423807\n",
      "Не получилось отвергнуть нулевую гипотезу, нет оснований считать доли разными\n",
      "\n",
      "CartScreenAppear\n",
      "p-значение:  0.39432110136773835\n",
      "Не получилось отвергнуть нулевую гипотезу, нет оснований считать доли разными\n",
      "\n",
      "OffersScreenAppear\n",
      "p-значение:  0.36593695068605325\n",
      "Не получилось отвергнуть нулевую гипотезу, нет оснований считать доли разными\n",
      "\n",
      "Tutorial\n",
      "p-значение:  0.9791070433857165\n",
      "Не получилось отвергнуть нулевую гипотезу, нет оснований считать доли разными\n",
      "\n"
     ]
    }
   ],
   "source": [
    "#создадим список с уникальными событиями:\n",
    "event_name_array = df['event_name'].unique()\n",
    "#создадим цикл, который будет подставлять в функцию уникальные значения собитый:\n",
    "for event_name in event_name_array:\n",
    "    test(group_246, group_247, event_name)"
   ]
  },
  {
   "cell_type": "markdown",
   "id": "a6b96950",
   "metadata": {},
   "source": [
    "*Статистические критерии разницу между выборками 246 и 247 не находят, т.к. ни для оного из событий разница не оказалось значимой обе эти группы можно считать контрольными. Разбиение на группы работает корректно*"
   ]
  },
  {
   "cell_type": "markdown",
   "id": "e5da6718",
   "metadata": {},
   "source": [
    "<div class=\"alert alert-success\">\n",
    "<b>Комментарий с комплиментом ревьюера:</b>\n",
    "\n",
    "Согласен, разбиение работает корректно.\n",
    "</div>\n"
   ]
  },
  {
   "cell_type": "markdown",
   "id": "1e8ead00",
   "metadata": {},
   "source": [
    "#### 4. Аналогично поступите с группой с изменённым шрифтом. Сравните результаты с каждой из контрольных групп в отдельности по каждому событию. Сравните результаты с объединённой контрольной группой. Какие выводы из эксперимента можно сделать?"
   ]
  },
  {
   "cell_type": "code",
   "execution_count": 39,
   "id": "7efff8ae",
   "metadata": {},
   "outputs": [
    {
     "name": "stdout",
     "output_type": "stream",
     "text": [
      "MainScreenAppear\n",
      "p-значение:  0.2987450335656847\n",
      "Не получилось отвергнуть нулевую гипотезу, нет оснований считать доли разными\n",
      "\n",
      "PaymentScreenSuccessful\n",
      "p-значение:  0.3903369220965023\n",
      "Не получилось отвергнуть нулевую гипотезу, нет оснований считать доли разными\n",
      "\n",
      "CartScreenAppear\n",
      "p-значение:  0.21469452387393084\n",
      "Не получилось отвергнуть нулевую гипотезу, нет оснований считать доли разными\n",
      "\n",
      "OffersScreenAppear\n",
      "p-значение:  0.32498018019986397\n",
      "Не получилось отвергнуть нулевую гипотезу, нет оснований считать доли разными\n",
      "\n",
      "Tutorial\n",
      "p-значение:  0.941774193649735\n",
      "Не получилось отвергнуть нулевую гипотезу, нет оснований считать доли разными\n",
      "\n"
     ]
    }
   ],
   "source": [
    "#Аналогично проверим 1 контрольную группу 246 с группой с изменным шрифтом 248\n",
    "for event_name in event_name_array:\n",
    "    test(group_246, group_248, event_name)"
   ]
  },
  {
   "cell_type": "markdown",
   "id": "ed85d14b",
   "metadata": {},
   "source": [
    "*Значимой разницы в поведении пользователей групп 246 и 248 нет*"
   ]
  },
  {
   "cell_type": "code",
   "execution_count": 40,
   "id": "9448e7e7",
   "metadata": {},
   "outputs": [
    {
     "name": "stdout",
     "output_type": "stream",
     "text": [
      "MainScreenAppear\n",
      "p-значение:  0.2987450335656847\n",
      "Не получилось отвергнуть нулевую гипотезу, нет оснований считать доли разными\n",
      "\n",
      "PaymentScreenSuccessful\n",
      "p-значение:  0.3903369220965023\n",
      "Не получилось отвергнуть нулевую гипотезу, нет оснований считать доли разными\n",
      "\n",
      "CartScreenAppear\n",
      "p-значение:  0.21469452387393084\n",
      "Не получилось отвергнуть нулевую гипотезу, нет оснований считать доли разными\n",
      "\n",
      "OffersScreenAppear\n",
      "p-значение:  0.32498018019986397\n",
      "Не получилось отвергнуть нулевую гипотезу, нет оснований считать доли разными\n",
      "\n",
      "Tutorial\n",
      "p-значение:  0.941774193649735\n",
      "Не получилось отвергнуть нулевую гипотезу, нет оснований считать доли разными\n",
      "\n"
     ]
    }
   ],
   "source": [
    "#Проверим 2 контрольную группу 247 с группой с изменным шрифтом 248\n",
    "for event_name in event_name_array:\n",
    "    test(group_246, group_248, event_name)"
   ]
  },
  {
   "cell_type": "markdown",
   "id": "ac690c2a",
   "metadata": {},
   "source": [
    "*Значимой разницы в поведении пользователей групп 247 и 248 нет*"
   ]
  },
  {
   "cell_type": "code",
   "execution_count": 41,
   "id": "8fc0de70",
   "metadata": {},
   "outputs": [],
   "source": [
    "#объеденим группы методом pd.concat\n",
    "group_246_247 = pd.concat([group_246, group_247])"
   ]
  },
  {
   "cell_type": "code",
   "execution_count": 42,
   "id": "08685dfc",
   "metadata": {},
   "outputs": [
    {
     "name": "stdout",
     "output_type": "stream",
     "text": [
      "MainScreenAppear\n",
      "p-значение:  0.2982116211407275\n",
      "Не получилось отвергнуть нулевую гипотезу, нет оснований считать доли разными\n",
      "\n",
      "PaymentScreenSuccessful\n",
      "p-значение:  0.7202057779473505\n",
      "Не получилось отвергнуть нулевую гипотезу, нет оснований считать доли разными\n",
      "\n",
      "CartScreenAppear\n",
      "p-значение:  0.34982490083868933\n",
      "Не получилось отвергнуть нулевую гипотезу, нет оснований считать доли разными\n",
      "\n",
      "OffersScreenAppear\n",
      "p-значение:  0.5425331263544062\n",
      "Не получилось отвергнуть нулевую гипотезу, нет оснований считать доли разными\n",
      "\n",
      "Tutorial\n",
      "p-значение:  0.9207162647272609\n",
      "Не получилось отвергнуть нулевую гипотезу, нет оснований считать доли разными\n",
      "\n"
     ]
    }
   ],
   "source": [
    "#Проверим объедененную контрольную группу с группой с изменным шрифтом 248\n",
    "for event_name in event_name_array:\n",
    "    test(group_246_247, group_248, event_name)"
   ]
  },
  {
   "cell_type": "markdown",
   "id": "0b3d6a9f",
   "metadata": {},
   "source": [
    "*Значимой разницы в поведении пользователей объедененной контрольной группы и эксперементальной группы нет*\n",
    "\n",
    "Можно сделать вывод о том, что изменение шрифтов в приложении не повлияло на наведение пользователей"
   ]
  },
  {
   "cell_type": "markdown",
   "id": "f505f6e2",
   "metadata": {},
   "source": [
    "\n",
    "<div class=\"alert alert-success\">\n",
    "<b>Комментарий с комплиментом ревьюера:</b>\n",
    "    \n",
    "Гипотезы проверены верно, молодец.\n",
    "</div>\n"
   ]
  },
  {
   "cell_type": "markdown",
   "id": "360632b4",
   "metadata": {},
   "source": [
    "#### 5. Какой уровень значимости вы выбрали при проверке статистических гипотез выше? Посчитайте, сколько проверок статистических гипотез вы сделали. При уровне значимости 0.1 каждый десятый раз можно получать ложный результат. Какой уровень значимости стоит применить? Если вы хотите изменить его, проделайте предыдущие пункты и проверьте свои выводы."
   ]
  },
  {
   "cell_type": "markdown",
   "id": "26203827",
   "metadata": {},
   "source": [
    "*Критический уровень статистической значимости мы брали 0.05, это озачает что мы рискуем получить ошибку первого рода в одном из 20 случаев. Мы провели 20 экспериментов. Если бы взяли больший уровень значимости, например 0.1, вероятность увидеть ложноположительный результат была бы выше в 2 раза.*"
   ]
  },
  {
   "cell_type": "markdown",
   "id": "a28cfe59",
   "metadata": {},
   "source": [
    "<div class=\"alert alert-warning\">\n",
    "<b>Комментарий с небольшим замечанием или советом ревьюера:</b>\n",
    "\n",
    "Хочу обратить твое внимание, что в нашем случае, необходимо скорректировать уровень значимости для снижения вероятности ложнопозитивного результата при множественном тестировании гипотез, для этого следует использовать поправку. В теории приводится несколько видов поправок, примени, пожалуйста, одну из них, советую не применять поправку Бонферрони, поскольку в таком случае ты сильно уменьшишь мощность теста.\n",
    "</div>\n"
   ]
  },
  {
   "cell_type": "markdown",
   "id": "dfa26532",
   "metadata": {},
   "source": [
    "**на 5 шаге мы:**\n",
    "1) Узнали сколько уникальных пользователей в каждой группе:\n",
    "\n",
    "    - в 246 группе 2484 уникальных пользователей;\n",
    "    \n",
    "    - в 247 группе 2513 уникальных пользователей;\n",
    "    \n",
    "    - в 248 группе 2537 уникальных пользователей.\n",
    "    \n",
    "2) Выбрали самое популярное событие. Посчитали число пользователей, совершивших это событие в каждой из контрольных групп. Посчитали долю пользователей, совершивших это событие. Проверели, будет ли отличие между группами статистически достоверным. Проделали то же самое для всех других событий.\n",
    "\n",
    "3) создали функцию для теста статистических различий между группами для каждого события.\n",
    "\n",
    "4) Аналогично поступили с группой с изменённым шрифтом: \n",
    "\n",
    "    - сравнили результаты с каждой из контрольных групп в отдельности по каждому событию;\n",
    "    \n",
    "    - сравнили результаты с объединённой контрольной группой.\n",
    "    \n",
    "Полученные выводы:\n",
    "\n",
    "    1. сравнение групп 246 и 247:\n",
    "        - Статистические критерии разницу между выборками 246 и 247 не находят, т.к. ни для оного из событий разница не оказалось значимой обе эти группы можно считать контрольными. Разбиение на группы работает корректно.\n",
    "    2. сравнение групп 246 и 248:\n",
    "        - Значимой разницы в поведении пользователей групп 246 и 248 нет.\n",
    "    3. сравнение групп 247 и 248:\n",
    "        - Значимой разницы в поведении пользователей групп 247 и 248 нет.\n",
    "    4. сравнение групп 246+247 и 248:\n",
    "        - Значимой разницы в поведении пользователей объедененной контрольной группы и эксперементальной группы нет."
   ]
  },
  {
   "cell_type": "markdown",
   "id": "60d68fc3",
   "metadata": {},
   "source": [
    "## Общий вывод."
   ]
  },
  {
   "cell_type": "markdown",
   "id": "c47417d6",
   "metadata": {},
   "source": [
    "**Описание проекта**\n",
    "\n",
    "Вы работаете в стартапе, который продаёт продукты питания. Нужно разобраться, как ведут себя пользователи вашего мобильного приложения. \n",
    "Изучите воронку продаж. Узнайте, как пользователи доходят до покупки. Сколько пользователей доходит до покупки, а сколько — «застревает» на предыдущих шагах? На каких именно?\n",
    "После этого исследуйте результаты A/A/B-эксперимента. Дизайнеры захотели поменять шрифты во всём приложении, а менеджеры испугались, что пользователям будет непривычно. Договорились принять решение по результатам A/A/B-теста. Пользователей разбили на 3 группы: 2 контрольные со старыми шрифтами и одну экспериментальную — с новыми. Выясните, какой шрифт лучше.\n",
    "Создание двух групп A вместо одной имеет определённые преимущества. Если две контрольные группы окажутся равны, вы можете быть уверены в точности проведенного тестирования. Если же между значениями A и A будут существенные различия, это поможет обнаружить факторы, которые привели к искажению результатов. Сравнение контрольных групп также помогает понять, сколько времени и данных потребуется для дальнейших тестов.\n",
    "В случае общей аналитики и A/A/B-эксперимента работайте с одними и теми же данными. В реальных проектах всегда идут эксперименты. Аналитики исследуют качество работы приложения по общим данным, не учитывая принадлежность пользователей к экспериментам.\n",
    "\n",
    "**Описание данных**\n",
    "Каждая запись в логе — это действие пользователя, или событие.\n",
    "\n",
    "- EventName — название события;\n",
    "- DeviceIDHash — уникальный идентификатор пользователя;\n",
    "- EventTimestamp — время события;\n",
    "- ExpId — номер эксперимента: 246 и 247 — контрольные группы, а 248 — экспериментальная.\n",
    "\n",
    "\n",
    "**На 1 шаге мы:**\n",
    "\n",
    "1) импортировали библиотеки;\n",
    "\n",
    "2) записали данные в датафрейм;\n",
    "\n",
    "3) изучили общую информацию о полученном датафрейме.\n",
    "\n",
    "\n",
    "**На шаге подготовки данных мы:**\n",
    "\n",
    "1) переписали названия столбцов для удобства;\n",
    "\n",
    "2) проверили датафреймы на пропуски и дубликаты;\n",
    "\n",
    "3) добавили новые столбцы с типами данных datetime;\n",
    "\n",
    "4) Проверили отсутствие пересечения пользователей в группах: пересечений нет.\n",
    "\n",
    "\n",
    "**На шаге изучения данных мы:**\n",
    "\n",
    "1) Посчитали сколько событий в логе: 243713;\n",
    "\n",
    "2) Посчитали количство уникальных пользователей: 7551;\n",
    "\n",
    "3) Посчитали сколько событий в среднем приходится на пользователя: 20;\n",
    "\n",
    "4) Определили минимальную и максимальную дату событий: 2019-07-25 и 2019-08-07 соответственно, однако полные данные оказались лишь 2019-08-01 по 2019-08-07;\n",
    "\n",
    "5) Обросили неполные данные и посчитали потери:\n",
    "\n",
    "    -потеря событий всего 2826 из 243713 (1,2%)\n",
    "    \n",
    "    -потеря пользователей 17 из 7551 (0,2%)\n",
    "    \n",
    "\n",
    "**На шаге изучения воронки событий мы:**\n",
    "\n",
    "1) Посмотрели, как часто встречаются события в логе:\n",
    "\n",
    "    - MainScreenAppear - 117328 раз;\n",
    "    \n",
    "    - OffersScreenAppear - 46333 раз;\n",
    "    \n",
    "    - CartScreenAppear - 42303 раз;\n",
    "    \n",
    "    - PaymentScreenSuccessful - 33918 раз;\n",
    "    \n",
    "    - Tutorial - 1005 раз.\n",
    "\n",
    "2) Посчитали, сколько пользователей совершали каждое из этих событий и долю пользователей, которые хоть раз совершали событие:\n",
    "\n",
    "    - MainScreenAppear - 7419 пользователей (98.47%);\n",
    "    \n",
    "    - OffersScreenAppear - 4593 пользователей (60.96%);\n",
    "    \n",
    "    - СartScreenAppear - 3734 пользователей (49.56%);\n",
    "    \n",
    "    - PaymentScreenSuccessful - 3539 пользователей (46.97%);\n",
    "    \n",
    "    - Tutorial - 840 пользователей (11.15%).\n",
    "\n",
    "3) Предположили, в каком порядке происходят события:\n",
    "\n",
    "    - сначала открывает главную страницу приложения(MainScreenAppear);\n",
    "    \n",
    "    - потом в каталоге выбирает товары(OffersScreenAppear);\n",
    "    \n",
    "    - кладёт их в корзину(CartScreenAppear);\n",
    "    \n",
    "    - оплачивает(PaymentScreenSuccessful).\n",
    "    \n",
    "    Откинули событие Tutorial, так как руководство в эту цепочку не входит\n",
    "    \n",
    "\n",
    "4) По воронке событий посчитали, какая доля пользователей проходит на следующий шаг воронки (от числа пользователей на предыдущем):\n",
    "    \n",
    "    - на первом шаге 7419 пользователей;\n",
    "    - до второго шага доходит 4613 пользователей, доля от предыдущего шага 62.0%;\n",
    "    - до третьего шага доходит 3749 пользователей, доля от предыдущего шага 81.3%;\n",
    "    - до четвертого шага доходит 3547, доля от предыдущего шага 94.6%\n",
    "\n",
    "5) Определили, что больше всего пользователей теряется на первом шаге: доля оплативших товар от тех кто дошел до просмотра корзины 62.0%.\n",
    "\n",
    "6) Посчитали, что доля пользователей прошедших от первого события до оплаты 47.7%.\n",
    "\n",
    "\n",
    "**На шаге изучения результатов эксперимента мы:**\n",
    "\n",
    "1) Узнали сколько уникальных пользователей в каждой группе:\n",
    "\n",
    "    - в 246 группе 2484 уникальных пользователей;\n",
    "    \n",
    "    - в 247 группе 2513 уникальных пользователей;\n",
    "    \n",
    "    - в 248 группе 2537 уникальных пользователей.\n",
    "    \n",
    "2) Выбрали самое популярное событие. Посчитали число пользователей, совершивших это событие в каждой из контрольных групп. Посчитали долю пользователей, совершивших это событие. Проверели, будет ли отличие между группами статистически достоверным. Проделали то же самое для всех других событий.\n",
    "\n",
    "3) создали функцию для теста статистических различий между группами для каждого события.\n",
    "\n",
    "4) Аналогично поступили с группой с изменённым шрифтом: \n",
    "\n",
    "    - сравнили результаты с каждой из контрольных групп в отдельности по каждому событию;\n",
    "    \n",
    "    - сравнили результаты с объединённой контрольной группой.\n",
    "    \n",
    "Полученные выводы:\n",
    "\n",
    "    1. сравнение групп 246 и 247:\n",
    "        - Статистические критерии разницу между выборками 246 и 247 не находят, т.к. ни для оного из событий разница не оказалось значимой обе эти группы можно считать контрольными. Разбиение на группы работает корректно.\n",
    "    2. сравнение групп 246 и 248:\n",
    "        - Значимой разницы в поведении пользователей групп 246 и 248 нет.\n",
    "    3. сравнение групп 247 и 248:\n",
    "        - Значимой разницы в поведении пользователей групп 247 и 248 нет.\n",
    "    4. сравнение групп 246+247 и 248:\n",
    "        - Значимой разницы в поведении пользователей объедененной контрольной группы и эксперементальной группы нет.\n",
    "    5. Критический уровень статистической значимости мы брали 0.05, это озачает что мы рискуем получить ошибку первого рода в одном из 20 случаев. Мы провели 20 экспериментов. Если бы взяли больший уровень значимости, например 0.1, вероятность увидеть ложноположительный результат была бы выше в 2 раза.\n",
    "    \n",
    "    \n",
    "**Вывод:**\n",
    "\n",
    "Множесто А/В-тестов, проведённых по каждому из событий, не обнаружили статистически значимой разницы между группами. Т.е. изменение шрифтов в приложении на поведение пользователей не повлияло."
   ]
  },
  {
   "cell_type": "markdown",
   "id": "b424efa9",
   "metadata": {},
   "source": [
    "<div class=\"alert alert-success\">\n",
    "<b>Комментарий с комплиментом ревьюера:</b> \n",
    "    \n",
    "Хороший аналитический вывод, который можно предоставить менеджерам. Верно, изменение шрифтов никак не повлияло на поведение пользователей.\n",
    "\n",
    "</div>\n"
   ]
  },
  {
   "cell_type": "markdown",
   "id": "92dce8e5",
   "metadata": {},
   "source": [
    "<div class=\"alert alert-info\"> \n",
    "<b>Доброго времени суток!)</b>\n",
    "    \n",
    "<b>Очень приятно с тобой познакомиться!😊</b>\n",
    "    \n",
    "Постарался исправить критические замечания, выводы переписал) Надеюсь, теперь все верно!)\n",
    "    \n",
    "Нужно будет почитать твои доп.материалы(Спасибо за ссылки😊)\n",
    "    \n",
    "<b>Большое спасибо за ревью и за новые методы!)</b>\n",
    "    \n",
    "<b>Надеюсь, еще встретимся!)</b>\n",
    "    \n",
    "</div>"
   ]
  },
  {
   "cell_type": "markdown",
   "id": "797cd9aa",
   "metadata": {},
   "source": [
    "<div style=\"border:solid Chocolate 2px; padding: 40px\">\n",
    "\n",
    "# Общий вывод ревьюера по проекту\n",
    "\n",
    "<div class=\"alert alert-success\">\n",
    "\n",
    "Проделана хорошая аналитическая работа. Код написан чисто, соблюдена структура проекта и написаны качественные аналитические выводы. Есть несколько замечаний, исправь их и проект будет принят.\n",
    "\n",
    "- по ссылкам ниже ты найдешь интересные материалы по А/В тестам\n",
    "  \n",
    "    \n",
    "https://habr.com/ru/company/avito/blog/571094/\n",
    "\n",
    "https://habr.com/ru/company/yandex/blog/476826/\n",
    "\n",
    "https://academy.yandex.ru/journal/kak-provesti-a-b-testirovanie-6-prostykh-shagov\n",
    "\n",
    "https://habr.com/ru/company/yandex/blog/342704/\n",
    "\n",
    "https://r-analytics.blogspot.com/2013/10/blog-post_13.html \n",
    "\n",
    "</div>\n",
    "\n",
    "<div class=\"alert alert-danger\">\n",
    "\n",
    "- проверь, пожалуйста, отсутствие пересечения пользователей    \n",
    "- скорректируй, пожалуйста, расчет доли пользователей, которые переходят на следующий шаг\n",
    "- проанализируй и используй, пожалуйста, поправку на множественную проверку гипотез   \n",
    "- добавь, пожалуйста, подписи осей для графика\n",
    "- сформулируй, пожалуйста, гипотезы\n",
    "</div>\n",
    "</div>\n"
   ]
  },
  {
   "cell_type": "markdown",
   "id": "fface6e1",
   "metadata": {},
   "source": [
    "<div style=\"border:solid Chocolate 2px; padding: 40px\">\n",
    "\n",
    "# Общий вывод ревьюера по проекту в2\n",
    "\n",
    "<div class=\"alert alert-success\">\n",
    "\n",
    "Отлично, замечания исправлены корректно, спасибо за качественный проект, было приятно поработать, желаю успеха на выпускном модуле!"
   ]
  },
  {
   "cell_type": "code",
   "execution_count": null,
   "id": "6e8e1598",
   "metadata": {},
   "outputs": [],
   "source": []
  }
 ],
 "metadata": {
  "ExecuteTimeLog": [
   {
    "duration": 1336,
    "start_time": "2023-04-01T18:07:16.937Z"
   },
   {
    "duration": 173,
    "start_time": "2023-04-01T18:07:18.275Z"
   },
   {
    "duration": 12,
    "start_time": "2023-04-01T18:07:18.450Z"
   },
   {
    "duration": 39,
    "start_time": "2023-04-01T18:07:18.464Z"
   },
   {
    "duration": 3,
    "start_time": "2023-04-01T18:07:18.506Z"
   },
   {
    "duration": 31,
    "start_time": "2023-04-01T18:07:18.511Z"
   },
   {
    "duration": 82,
    "start_time": "2023-04-01T18:07:18.543Z"
   },
   {
    "duration": 98,
    "start_time": "2023-04-01T18:07:18.626Z"
   },
   {
    "duration": 80,
    "start_time": "2023-04-01T18:07:18.726Z"
   },
   {
    "duration": 125,
    "start_time": "2023-04-01T18:07:18.809Z"
   },
   {
    "duration": 12,
    "start_time": "2023-04-01T18:07:18.940Z"
   },
   {
    "duration": 19,
    "start_time": "2023-04-01T18:07:18.954Z"
   },
   {
    "duration": 27,
    "start_time": "2023-04-01T18:07:18.975Z"
   },
   {
    "duration": 22,
    "start_time": "2023-04-01T18:07:19.004Z"
   },
   {
    "duration": 18,
    "start_time": "2023-04-01T18:07:19.029Z"
   },
   {
    "duration": 480,
    "start_time": "2023-04-01T18:07:19.050Z"
   },
   {
    "duration": 31,
    "start_time": "2023-04-01T18:07:19.532Z"
   },
   {
    "duration": 4,
    "start_time": "2023-04-01T18:07:19.565Z"
   },
   {
    "duration": 33,
    "start_time": "2023-04-01T18:07:19.571Z"
   },
   {
    "duration": 36,
    "start_time": "2023-04-01T18:07:19.607Z"
   },
   {
    "duration": 54,
    "start_time": "2023-04-01T18:07:19.645Z"
   },
   {
    "duration": 79,
    "start_time": "2023-04-01T18:07:19.701Z"
   },
   {
    "duration": 92,
    "start_time": "2023-04-01T18:07:19.782Z"
   },
   {
    "duration": 3,
    "start_time": "2023-04-01T18:07:19.876Z"
   },
   {
    "duration": 67,
    "start_time": "2023-04-01T18:07:19.880Z"
   },
   {
    "duration": 28,
    "start_time": "2023-04-01T18:07:19.948Z"
   },
   {
    "duration": 64,
    "start_time": "2023-04-01T18:07:19.978Z"
   },
   {
    "duration": 30,
    "start_time": "2023-04-01T18:07:20.045Z"
   },
   {
    "duration": 28,
    "start_time": "2023-04-01T18:07:20.076Z"
   },
   {
    "duration": 6,
    "start_time": "2023-04-01T18:07:20.106Z"
   },
   {
    "duration": 151,
    "start_time": "2023-04-01T18:07:20.142Z"
   },
   {
    "duration": 94,
    "start_time": "2023-04-01T18:07:20.295Z"
   },
   {
    "duration": 93,
    "start_time": "2023-04-01T18:07:20.391Z"
   },
   {
    "duration": 7,
    "start_time": "2023-04-01T18:07:20.486Z"
   },
   {
    "duration": 130,
    "start_time": "2023-04-01T18:07:20.495Z"
   },
   {
    "duration": 1281,
    "start_time": "2023-04-02T10:49:59.881Z"
   },
   {
    "duration": 552,
    "start_time": "2023-04-02T10:50:01.164Z"
   },
   {
    "duration": 10,
    "start_time": "2023-04-02T10:50:01.717Z"
   },
   {
    "duration": 39,
    "start_time": "2023-04-02T10:50:01.728Z"
   },
   {
    "duration": 3,
    "start_time": "2023-04-02T10:50:01.769Z"
   },
   {
    "duration": 21,
    "start_time": "2023-04-02T10:50:01.773Z"
   },
   {
    "duration": 77,
    "start_time": "2023-04-02T10:50:01.795Z"
   },
   {
    "duration": 50,
    "start_time": "2023-04-02T10:50:01.874Z"
   },
   {
    "duration": 68,
    "start_time": "2023-04-02T10:50:01.926Z"
   },
   {
    "duration": 54,
    "start_time": "2023-04-02T10:50:01.995Z"
   },
   {
    "duration": 83,
    "start_time": "2023-04-02T10:50:02.051Z"
   },
   {
    "duration": 34,
    "start_time": "2023-04-02T10:50:02.135Z"
   },
   {
    "duration": 11,
    "start_time": "2023-04-02T10:50:02.171Z"
   },
   {
    "duration": 35,
    "start_time": "2023-04-02T10:50:02.184Z"
   },
   {
    "duration": 40,
    "start_time": "2023-04-02T10:50:02.220Z"
   },
   {
    "duration": 30,
    "start_time": "2023-04-02T10:50:02.262Z"
   },
   {
    "duration": 24,
    "start_time": "2023-04-02T10:50:02.294Z"
   },
   {
    "duration": 64,
    "start_time": "2023-04-02T10:50:02.319Z"
   },
   {
    "duration": 20,
    "start_time": "2023-04-02T10:50:02.385Z"
   },
   {
    "duration": 34,
    "start_time": "2023-04-02T10:50:02.406Z"
   },
   {
    "duration": 321,
    "start_time": "2023-04-02T10:50:02.441Z"
   },
   {
    "duration": 11,
    "start_time": "2023-04-02T10:50:02.763Z"
   },
   {
    "duration": 26,
    "start_time": "2023-04-02T10:50:02.776Z"
   },
   {
    "duration": 19,
    "start_time": "2023-04-02T10:50:02.803Z"
   },
   {
    "duration": 65,
    "start_time": "2023-04-02T10:50:02.823Z"
   },
   {
    "duration": 33,
    "start_time": "2023-04-02T10:50:02.889Z"
   },
   {
    "duration": 21,
    "start_time": "2023-04-02T10:50:02.923Z"
   },
   {
    "duration": 37,
    "start_time": "2023-04-02T10:50:02.945Z"
   },
   {
    "duration": 53,
    "start_time": "2023-04-02T10:50:02.983Z"
   },
   {
    "duration": 83,
    "start_time": "2023-04-02T10:50:03.037Z"
   },
   {
    "duration": 3,
    "start_time": "2023-04-02T10:50:03.121Z"
   },
   {
    "duration": 52,
    "start_time": "2023-04-02T10:50:03.126Z"
   },
   {
    "duration": 16,
    "start_time": "2023-04-02T10:50:03.181Z"
   },
   {
    "duration": 25,
    "start_time": "2023-04-02T10:50:03.198Z"
   },
   {
    "duration": 32,
    "start_time": "2023-04-02T10:50:03.224Z"
   },
   {
    "duration": 21,
    "start_time": "2023-04-02T10:50:03.257Z"
   },
   {
    "duration": 5,
    "start_time": "2023-04-02T10:50:03.279Z"
   },
   {
    "duration": 93,
    "start_time": "2023-04-02T10:50:03.285Z"
   },
   {
    "duration": 61,
    "start_time": "2023-04-02T10:50:03.379Z"
   },
   {
    "duration": 66,
    "start_time": "2023-04-02T10:50:03.442Z"
   },
   {
    "duration": 5,
    "start_time": "2023-04-02T10:50:03.511Z"
   },
   {
    "duration": 106,
    "start_time": "2023-04-02T10:50:03.517Z"
   }
  ],
  "kernelspec": {
   "display_name": "Python 3 (ipykernel)",
   "language": "python",
   "name": "python3"
  },
  "language_info": {
   "codemirror_mode": {
    "name": "ipython",
    "version": 3
   },
   "file_extension": ".py",
   "mimetype": "text/x-python",
   "name": "python",
   "nbconvert_exporter": "python",
   "pygments_lexer": "ipython3",
   "version": "3.9.5"
  },
  "toc": {
   "base_numbering": 1,
   "nav_menu": {},
   "number_sections": true,
   "sideBar": true,
   "skip_h1_title": true,
   "title_cell": "Table of Contents",
   "title_sidebar": "Contents",
   "toc_cell": false,
   "toc_position": {},
   "toc_section_display": true,
   "toc_window_display": false
  }
 },
 "nbformat": 4,
 "nbformat_minor": 5
}
